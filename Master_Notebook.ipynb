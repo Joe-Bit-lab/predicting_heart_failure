{
 "cells": [
  {
   "cell_type": "code",
   "execution_count": 1,
   "metadata": {},
   "outputs": [],
   "source": [
    "import pandas as pd\n",
    "import numpy as np\n",
    "import matplotlib.pyplot as plt\n",
    "import missingno as msno\n",
    "import seaborn as sns\n",
    "%matplotlib inline"
   ]
  },
  {
   "cell_type": "code",
   "execution_count": 2,
   "metadata": {},
   "outputs": [],
   "source": [
    "data = pd.read_csv('heart_failure_clinical_records_dataset.csv')"
   ]
  },
  {
   "cell_type": "code",
   "execution_count": 3,
   "metadata": {},
   "outputs": [
    {
     "name": "stdout",
     "output_type": "stream",
     "text": [
      "<class 'pandas.core.frame.DataFrame'>\n",
      "RangeIndex: 299 entries, 0 to 298\n",
      "Data columns (total 13 columns):\n",
      " #   Column                    Non-Null Count  Dtype  \n",
      "---  ------                    --------------  -----  \n",
      " 0   age                       299 non-null    float64\n",
      " 1   anaemia                   299 non-null    int64  \n",
      " 2   creatinine_phosphokinase  299 non-null    int64  \n",
      " 3   diabetes                  299 non-null    int64  \n",
      " 4   ejection_fraction         299 non-null    int64  \n",
      " 5   high_blood_pressure       299 non-null    int64  \n",
      " 6   platelets                 299 non-null    float64\n",
      " 7   serum_creatinine          299 non-null    float64\n",
      " 8   serum_sodium              299 non-null    int64  \n",
      " 9   sex                       299 non-null    int64  \n",
      " 10  smoking                   299 non-null    int64  \n",
      " 11  time                      299 non-null    int64  \n",
      " 12  DEATH_EVENT               299 non-null    int64  \n",
      "dtypes: float64(3), int64(10)\n",
      "memory usage: 30.5 KB\n"
     ]
    }
   ],
   "source": [
    "data.info()"
   ]
  },
  {
   "cell_type": "code",
   "execution_count": 4,
   "metadata": {},
   "outputs": [],
   "source": [
    "from sklearn.ensemble import RandomForestClassifier, GradientBoostingClassifier\n",
    "from sklearn.metrics import classification_report, recall_score, precision_score, f1_score\n",
    "from sklearn.model_selection import train_test_split, cross_val_score, GridSearchCV"
   ]
  },
  {
   "cell_type": "code",
   "execution_count": 5,
   "metadata": {},
   "outputs": [],
   "source": [
    "X = data.loc[:,'age':'time']\n",
    "y = data.loc[:,[\"DEATH_EVENT\"]]"
   ]
  },
  {
   "cell_type": "code",
   "execution_count": 6,
   "metadata": {},
   "outputs": [],
   "source": [
    "X_train, X_test, y_train, y_test = train_test_split(X, y, test_size=0.2)"
   ]
  },
  {
   "cell_type": "markdown",
   "metadata": {},
   "source": [
    "### Vanilla Random Forrest"
   ]
  },
  {
   "cell_type": "code",
   "execution_count": 7,
   "metadata": {},
   "outputs": [
    {
     "data": {
      "text/plain": [
       "1.0"
      ]
     },
     "execution_count": 7,
     "metadata": {},
     "output_type": "execute_result"
    }
   ],
   "source": [
    "rf_vanil = RandomForestClassifier()\n",
    "rf_vanil.fit(X_train, y_train.values.ravel())\n",
    "print('Accuracy Score: {}'.format(rf_vanil.score(X_train, y_train))\n",
    "print('CrossVal Score: {}'.format(rf_vanil.))"
   ]
  },
  {
   "cell_type": "markdown",
   "metadata": {},
   "source": [
    "### Model has overfit, run hyperparameter tuning using gridsearch"
   ]
  },
  {
   "cell_type": "code",
   "execution_count": 58,
   "metadata": {},
   "outputs": [],
   "source": [
    "#Defining the estimator\n",
    "est = RandomForestClassifier(\n",
    "    n_jobs=-1\n",
    ")\n",
    "#Establishing which hyperparameters to use in the grid search\n",
    "param_grid = {\n",
    "    'max_depth':range(2,7),\n",
    "    'min_samples_leaf':range(5,30,5),\n",
    "    'max_features':['sqrt','log2']\n",
    "}\n",
    "#Creating grid search:\n",
    "grid_search = GridSearchCV(\n",
    "    estimator=est,\n",
    "    param_grid=param_grid,\n",
    "    scoring='accuracy',\n",
    "    n_jobs=-1,cv=5,\n",
    "    return_train_score=True\n",
    ")"
   ]
  },
  {
   "cell_type": "code",
   "execution_count": 56,
   "metadata": {},
   "outputs": [
    {
     "name": "stdout",
     "output_type": "stream",
     "text": [
      "Best Parameters are: {'max_depth': 4, 'max_features': 'sqrt', 'min_samples_leaf': 5}\n",
      "Best CrossVal Score was: 0.8784574468085106\n"
     ]
    }
   ],
   "source": [
    "grid_search.fit(\n",
    "    X_train,\n",
    "    y_train.values.ravel()\n",
    ")\n",
    "\n",
    "results = pd.DataFrame(grid_search.cv_results_)\n",
    "print('Best Parameters were: {}'.format(grid_search.best_params_))\n",
    "print('Best CrossVal Score was: {}'.format(grid_search.best_score_))"
   ]
  },
  {
   "cell_type": "markdown",
   "metadata": {},
   "source": [
    "### Vanilla GradientBoost"
   ]
  },
  {
   "cell_type": "code",
   "execution_count": 54,
   "metadata": {},
   "outputs": [],
   "source": [
    "from sklearn.ensemble import GradientBoostingClassifier"
   ]
  },
  {
   "cell_type": "code",
   "execution_count": 55,
   "metadata": {},
   "outputs": [
    {
     "name": "stdout",
     "output_type": "stream",
     "text": [
      "Accuracy Score 1.0\n",
      "CrossVal Score: [0.85416667 0.79166667 0.91666667 0.83333333 0.80851064]\n"
     ]
    }
   ],
   "source": [
    "gb_vanil = GradientBoostingClassifier()\n",
    "gb_vanil.fit(X_train, y_train.values.ravel())\n",
    "print('Accuracy Score {}'.format(gb_vanil.score(X_train, y_train.values.ravel())))\n",
    "print('CrossVal Score: {}'.format(cross_val_score(gb_vanil, X_train, y_train.values.ravel())))"
   ]
  },
  {
   "cell_type": "markdown",
   "metadata": {},
   "source": [
    "### Model has overfit, run hyperparameter tuning (again) using GridSearch"
   ]
  },
  {
   "cell_type": "code",
   "execution_count": 60,
   "metadata": {},
   "outputs": [],
   "source": [
    "est = GradientBoostingClassifier()\n",
    "param_grid = {\n",
    "    'loss':['deviance','exponential'],\n",
    "    'n_estimators':range(100,500,100),\n",
    "    'min_samples_leaf':range(1,10,2),\n",
    "    'max_depth':range(3,10),\n",
    "    'max_features':['sqrt','log2']\n",
    "}\n",
    "grid_search = GridSearchCV(\n",
    "    estimator = est,\n",
    "    param_grid = param_grid,\n",
    "    scoring = 'accuracy',\n",
    "    n_jobs = -1,\n",
    "    cv = 5,\n",
    "    return_train_score = True\n",
    ")"
   ]
  },
  {
   "cell_type": "code",
   "execution_count": 63,
   "metadata": {},
   "outputs": [
    {
     "name": "stdout",
     "output_type": "stream",
     "text": [
      "Best Parameters were: {'loss': 'deviance', 'max_depth': 7, 'max_features': 'log2', 'min_samples_leaf': 3, 'n_estimators': 200}\n",
      "Best CrossVal Scores was: 0.8826241134751773\n"
     ]
    }
   ],
   "source": [
    "# grid_search.fit(\n",
    "#     X_train, \n",
    "#     y_train.values.ravel()\n",
    "# )\n",
    "# results = pd.DataFrame(grid_search.cv_results_)\n",
    "print('Best Parameters were: {}'.format(grid_search.best_params_))\n",
    "print('Best CrossVal Scores was: {}'.format(grid_search.best_score_))"
   ]
  }
 ],
 "metadata": {
  "kernelspec": {
   "display_name": "Python 3",
   "language": "python",
   "name": "python3"
  },
  "language_info": {
   "codemirror_mode": {
    "name": "ipython",
    "version": 3
   },
   "file_extension": ".py",
   "mimetype": "text/x-python",
   "name": "python",
   "nbconvert_exporter": "python",
   "pygments_lexer": "ipython3",
   "version": "3.7.7"
  }
 },
 "nbformat": 4,
 "nbformat_minor": 4
}
